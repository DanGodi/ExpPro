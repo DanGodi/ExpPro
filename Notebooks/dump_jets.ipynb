{
 "cells": [
  {
   "cell_type": "code",
   "execution_count": 6,
   "metadata": {},
   "outputs": [],
   "source": [
    "import uproot\n",
    "import awkward as ak\n",
    "import numpy as np\n",
    "import matplotlib.pyplot as plt"
   ]
  },
  {
   "cell_type": "code",
   "execution_count": 1,
   "metadata": {},
   "outputs": [
    {
     "name": "stdout",
     "output_type": "stream",
     "text": [
      "Collecting uproot\n",
      "  Using cached uproot-5.6.0-py3-none-any.whl (365 kB)\n",
      "Requirement already satisfied: awkward>=2.4.6 in /Library/Frameworks/Python.framework/Versions/3.11/lib/python3.11/site-packages (from uproot) (2.7.2)\n",
      "Collecting cramjam>=2.5.0\n",
      "  Downloading cramjam-2.9.1-cp311-cp311-macosx_10_12_x86_64.whl (2.1 MB)\n",
      "\u001b[2K     \u001b[90m━━━━━━━━━━━━━━━━━━━━━━━━━━━━━━━━━━━━━━━━\u001b[0m \u001b[32m2.1/2.1 MB\u001b[0m \u001b[31m6.3 MB/s\u001b[0m eta \u001b[36m0:00:00\u001b[0m00:01\u001b[0m00:01\u001b[0m\n",
      "\u001b[?25hRequirement already satisfied: fsspec in /Library/Frameworks/Python.framework/Versions/3.11/lib/python3.11/site-packages (from uproot) (2024.12.0)\n",
      "Requirement already satisfied: numpy in /Library/Frameworks/Python.framework/Versions/3.11/lib/python3.11/site-packages (from uproot) (1.26.2)\n",
      "Requirement already satisfied: packaging in /Library/Frameworks/Python.framework/Versions/3.11/lib/python3.11/site-packages (from uproot) (23.1)\n",
      "Collecting xxhash\n",
      "  Downloading xxhash-3.5.0-cp311-cp311-macosx_10_9_x86_64.whl (31 kB)\n",
      "Requirement already satisfied: awkward-cpp==43 in /Library/Frameworks/Python.framework/Versions/3.11/lib/python3.11/site-packages (from awkward>=2.4.6->uproot) (43)\n",
      "Requirement already satisfied: importlib-metadata>=4.13.0 in /Library/Frameworks/Python.framework/Versions/3.11/lib/python3.11/site-packages (from awkward>=2.4.6->uproot) (8.5.0)\n",
      "Requirement already satisfied: zipp>=3.20 in /Library/Frameworks/Python.framework/Versions/3.11/lib/python3.11/site-packages (from importlib-metadata>=4.13.0->awkward>=2.4.6->uproot) (3.21.0)\n",
      "Installing collected packages: xxhash, cramjam, uproot\n",
      "Successfully installed cramjam-2.9.1 uproot-5.6.0 xxhash-3.5.0\n",
      "\n",
      "\u001b[1m[\u001b[0m\u001b[34;49mnotice\u001b[0m\u001b[1;39;49m]\u001b[0m\u001b[39;49m A new release of pip available: \u001b[0m\u001b[31;49m22.3.1\u001b[0m\u001b[39;49m -> \u001b[0m\u001b[32;49m25.0.1\u001b[0m\n",
      "\u001b[1m[\u001b[0m\u001b[34;49mnotice\u001b[0m\u001b[1;39;49m]\u001b[0m\u001b[39;49m To update, run: \u001b[0m\u001b[32;49mpip3.11 install --upgrade pip\u001b[0m\n",
      "Note: you may need to restart the kernel to use updated packages.\n"
     ]
    }
   ],
   "source": [
    "pip install uproot"
   ]
  },
  {
   "cell_type": "code",
   "execution_count": 17,
   "metadata": {},
   "outputs": [],
   "source": [
    "def dump_jets(fp, max_N_jets_per_event=10, lib='np'):\n",
    "    with uproot.open(fp) as f:\n",
    "        tree = f['pfJetsAk5/Events']\n",
    "        branches = ['jet_e', 'jet_pt', 'jet_eta', 'jet_phi', 'jet_mass', 'jet_btag', 'jet_area', 'jet_rho', 'jet_npv', 'jet_jec', 'corr_jet_pt']\n",
    "        jet_dict = tree.arrays(branches, library=lib)\n",
    "        return jet_dict"
   ]
  },
  {
   "cell_type": "code",
   "execution_count": 4,
   "metadata": {},
   "outputs": [],
   "source": [
    "fp='../test_files/00BF1FDD-65BC-E311-A63F-00259073E3D0_poet.root'\n",
    "#fp = '/storage/agrp/dreyet/CMS_OpenData/FullEvent/CMSSW_5_3_32/src/PhysObjectExtractorTool/PhysObjectExtractor/output/MonteCarlo2011/Summer11LegDR/GluGluToHToZZTo4L_M-125_7TeV-minloHJJ-pythia6-tauola/AODSIM/PU_S13_START53_LV6-v1/10000/32F6F171-5092-E411-AAD1-003048FFD740_poet.root'"
   ]
  },
  {
   "cell_type": "code",
   "execution_count": 15,
   "metadata": {},
   "outputs": [],
   "source": [
    "jet_dict = dump_jets(fp)"
   ]
  },
  {
   "cell_type": "code",
   "execution_count": 16,
   "metadata": {},
   "outputs": [
    {
     "data": {
      "text/plain": [
       "dict_keys(['numberjet', 'jet_e', 'jet_pt', 'jet_px', 'jet_py', 'jet_pz', 'jet_eta', 'jet_phi', 'jet_ch', 'jet_mass', 'jet_btag', 'jet_area', 'jet_rho', 'jet_npv', 'jet_jec', 'corr_jet_pt', 'corr_jet_ptUp', 'corr_jet_ptDown', 'corr_jet_ptSmearUp', 'corr_jet_ptSmearDown', 'btag_Weight', 'btag_WeightUp', 'btag_WeightDn'])"
      ]
     },
     "execution_count": 16,
     "metadata": {},
     "output_type": "execute_result"
    }
   ],
   "source": [
    "jet_dict.keys()"
   ]
  },
  {
   "cell_type": "code",
   "execution_count": 30,
   "metadata": {},
   "outputs": [
    {
     "data": {
      "text/plain": [
       "(array([0.000e+00, 0.000e+00, 0.000e+00, 1.000e+00, 7.000e+00, 1.100e+01,\n",
       "        8.000e+00, 1.300e+01, 6.000e+00, 8.000e+00, 7.000e+00, 9.000e+00,\n",
       "        1.400e+01, 3.400e+01, 5.700e+01, 8.900e+01, 1.090e+02, 1.970e+02,\n",
       "        2.620e+02, 4.070e+02, 6.230e+02, 8.070e+02, 9.580e+02, 1.030e+03,\n",
       "        1.154e+03, 1.170e+03, 1.204e+03, 1.182e+03, 1.152e+03, 1.180e+03,\n",
       "        1.082e+03, 1.037e+03, 9.810e+02, 9.120e+02, 8.390e+02, 8.530e+02,\n",
       "        8.050e+02, 7.720e+02, 7.890e+02, 7.460e+02, 7.230e+02, 6.750e+02,\n",
       "        6.900e+02, 6.820e+02, 6.940e+02, 6.250e+02, 6.710e+02, 5.930e+02,\n",
       "        6.170e+02, 5.690e+02, 5.480e+02, 5.250e+02, 5.000e+02, 4.700e+02,\n",
       "        4.310e+02, 4.110e+02, 3.950e+02, 3.490e+02, 3.100e+02, 3.290e+02,\n",
       "        3.110e+02, 2.530e+02, 2.650e+02, 2.180e+02, 2.380e+02, 1.870e+02,\n",
       "        1.960e+02, 1.850e+02, 1.510e+02, 1.260e+02, 1.370e+02, 1.420e+02,\n",
       "        1.380e+02, 1.170e+02, 1.050e+02, 1.010e+02, 9.900e+01, 8.300e+01,\n",
       "        1.090e+02, 7.900e+01, 7.900e+01, 7.700e+01, 6.700e+01, 6.800e+01,\n",
       "        6.500e+01, 5.900e+01, 6.400e+01, 7.200e+01, 5.400e+01, 4.400e+01,\n",
       "        5.800e+01, 6.700e+01, 3.500e+01, 3.100e+01, 4.900e+01, 3.900e+01,\n",
       "        4.000e+01, 3.600e+01, 3.200e+01, 3.600e+01]),\n",
       " array([  0.,   1.,   2.,   3.,   4.,   5.,   6.,   7.,   8.,   9.,  10.,\n",
       "         11.,  12.,  13.,  14.,  15.,  16.,  17.,  18.,  19.,  20.,  21.,\n",
       "         22.,  23.,  24.,  25.,  26.,  27.,  28.,  29.,  30.,  31.,  32.,\n",
       "         33.,  34.,  35.,  36.,  37.,  38.,  39.,  40.,  41.,  42.,  43.,\n",
       "         44.,  45.,  46.,  47.,  48.,  49.,  50.,  51.,  52.,  53.,  54.,\n",
       "         55.,  56.,  57.,  58.,  59.,  60.,  61.,  62.,  63.,  64.,  65.,\n",
       "         66.,  67.,  68.,  69.,  70.,  71.,  72.,  73.,  74.,  75.,  76.,\n",
       "         77.,  78.,  79.,  80.,  81.,  82.,  83.,  84.,  85.,  86.,  87.,\n",
       "         88.,  89.,  90.,  91.,  92.,  93.,  94.,  95.,  96.,  97.,  98.,\n",
       "         99., 100.]),\n",
       " <BarContainer object of 100 artists>)"
      ]
     },
     "execution_count": 30,
     "metadata": {},
     "output_type": "execute_result"
    },
    {
     "data": {
      "image/png": "[encoded data removed]",
      "text/plain": [
       "<Figure size 640x480 with 1 Axes>"
      ]
     },
     "metadata": {},
     "output_type": "display_data"
    }
   ],
   "source": [
    "plt.hist(all_jet_pts, bins=100, range=(0, 100))"
   ]
  },
  {
   "cell_type": "code",
   "execution_count": null,
   "metadata": {},
   "outputs": [],
   "source": []
  }
 ],
 "metadata": {
  "kernelspec": {
   "display_name": "Python 3",
   "language": "python",
   "name": "python3"
  },
  "language_info": {
   "codemirror_mode": {
    "name": "ipython",
    "version": 3
   },
   "file_extension": ".py",
   "mimetype": "text/x-python",
   "name": "python",
   "nbconvert_exporter": "python",
   "pygments_lexer": "ipython3",
   "version": "3.11.3"
  }
 },
 "nbformat": 4,
 "nbformat_minor": 2
}
